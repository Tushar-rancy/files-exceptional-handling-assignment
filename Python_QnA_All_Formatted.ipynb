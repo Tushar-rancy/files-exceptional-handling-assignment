{
  "cells": [
    {
      "cell_type": "markdown",
      "metadata": {
        "id": "view-in-github",
        "colab_type": "text"
      },
      "source": [
        "<a href=\"https://colab.research.google.com/github/Tushar-rancy/files-exceptional-handling-assignment/blob/main/Python_QnA_All_Formatted.ipynb\" target=\"_parent\"><img src=\"https://colab.research.google.com/assets/colab-badge.svg\" alt=\"Open In Colab\"/></a>"
      ]
    },
    {
      "cell_type": "markdown",
      "id": "6b84611b",
      "metadata": {
        "id": "6b84611b"
      },
      "source": [
        "# Python: Files, Exception Handling, Logging, and Memory Management\n",
        "---\n",
        "This notebook contains **all theoretical and practical questions** in **numbered Q&A format**."
      ]
    },
    {
      "cell_type": "markdown",
      "id": "3274d248",
      "metadata": {
        "id": "3274d248"
      },
      "source": [
        "## Theoretical Questions and Answers"
      ]
    },
    {
      "cell_type": "markdown",
      "id": "afac7b18",
      "metadata": {
        "id": "afac7b18"
      },
      "source": [
        "### Q: 1. What is the difference between interpreted and compiled languages?\n",
        "**A:** - **Compiled**: Entire code is translated into machine code before execution (e.g., C++).\n",
        "- **Interpreted**: Executed line by line during runtime (e.g., Python)."
      ]
    },
    {
      "cell_type": "markdown",
      "id": "a3b048da",
      "metadata": {
        "id": "a3b048da"
      },
      "source": [
        "### Q: 2. What is exception handling in Python?\n",
        "**A:** It is a way to handle runtime errors using `try`, `except`, `else`, and `finally` blocks."
      ]
    },
    {
      "cell_type": "markdown",
      "id": "cfc8fb15",
      "metadata": {
        "id": "cfc8fb15"
      },
      "source": [
        "### Q: 3. What is the purpose of the finally block in exception handling?\n",
        "**A:** To execute code regardless of whether an exception occurred, typically for cleanup."
      ]
    },
    {
      "cell_type": "markdown",
      "id": "b19f8aba",
      "metadata": {
        "id": "b19f8aba"
      },
      "source": [
        "### Q: 4. What is logging in Python?\n",
        "**A:** Logging records messages for debugging or auditing, using various levels (INFO, DEBUG, ERROR, etc.)."
      ]
    },
    {
      "cell_type": "markdown",
      "id": "1fa68678",
      "metadata": {
        "id": "1fa68678"
      },
      "source": [
        "### Q: 5. What is the significance of the __del__ method in Python?\n",
        "**A:** It defines a destructor, which is called when an object is about to be destroyed."
      ]
    },
    {
      "cell_type": "markdown",
      "id": "7e7addb9",
      "metadata": {
        "id": "7e7addb9"
      },
      "source": [
        "### Q: 6. What is the difference between import and from ... import in Python?\n",
        "**A:** - `import module`: Access with `module.function()`.\n",
        "- `from module import function`: Access with `function()` directly."
      ]
    },
    {
      "cell_type": "markdown",
      "id": "f796aa73",
      "metadata": {
        "id": "f796aa73"
      },
      "source": [
        "### Q: 7. How can you handle multiple exceptions in Python?\n",
        "**A:** Use multiple `except` blocks or group them in a tuple."
      ]
    },
    {
      "cell_type": "markdown",
      "id": "c5b7200b",
      "metadata": {
        "id": "c5b7200b"
      },
      "source": [
        "### Q: 8. What is the purpose of the with statement when handling files in Python?\n",
        "**A:** Ensures the file is properly closed after operations, even if an error occurs."
      ]
    },
    {
      "cell_type": "markdown",
      "id": "99120e87",
      "metadata": {
        "id": "99120e87"
      },
      "source": [
        "### Q: 9. What is the difference between multithreading and multiprocessing?\n",
        "**A:** - *Multithreading*: Multiple threads within one process.\n",
        "- *Multiprocessing*: Separate memory space and processes."
      ]
    },
    {
      "cell_type": "markdown",
      "id": "e7b16aee",
      "metadata": {
        "id": "e7b16aee"
      },
      "source": [
        "### Q: 10. What are the advantages of using logging in a program?\n",
        "**A:** Persistent logs, easier debugging, and structured monitoring of execution."
      ]
    },
    {
      "cell_type": "markdown",
      "id": "c80ae327",
      "metadata": {
        "id": "c80ae327"
      },
      "source": [
        "### Q: 11. What is memory management in Python?\n",
        "**A:** Automatic handling of memory allocation and deallocation using reference counting and garbage collection."
      ]
    },
    {
      "cell_type": "markdown",
      "id": "8c03ebdf",
      "metadata": {
        "id": "8c03ebdf"
      },
      "source": [
        "### Q: 12. What are the basic steps involved in exception handling in Python?\n",
        "**A:** `try` block for risky code, `except` to handle errors, `else` for success, `finally` for cleanup."
      ]
    },
    {
      "cell_type": "markdown",
      "id": "7b447cfd",
      "metadata": {
        "id": "7b447cfd"
      },
      "source": [
        "### Q: 13. Why is memory management important in Python?\n",
        "**A:** To avoid memory leaks and improve performance and reliability."
      ]
    },
    {
      "cell_type": "markdown",
      "id": "00e665c5",
      "metadata": {
        "id": "00e665c5"
      },
      "source": [
        "### Q: 14. What is the role of try and except in exception handling?\n",
        "**A:** `try` contains risky code, and `except` handles exceptions if they occur."
      ]
    },
    {
      "cell_type": "markdown",
      "id": "858dca9f",
      "metadata": {
        "id": "858dca9f"
      },
      "source": [
        "### Q: 15. How does Python's garbage collection system work?\n",
        "**A:** It frees memory by deleting objects with no references and detects cycles."
      ]
    },
    {
      "cell_type": "markdown",
      "id": "5c97ab70",
      "metadata": {
        "id": "5c97ab70"
      },
      "source": [
        "### Q: 16. What is the purpose of the else block in exception handling?\n",
        "**A:** Executes if no exception occurs in the `try` block."
      ]
    },
    {
      "cell_type": "markdown",
      "id": "292cb786",
      "metadata": {
        "id": "292cb786"
      },
      "source": [
        "### Q: 17. What are the common logging levels in Python?\n",
        "**A:** DEBUG, INFO, WARNING, ERROR, CRITICAL."
      ]
    },
    {
      "cell_type": "markdown",
      "id": "637dbda9",
      "metadata": {
        "id": "637dbda9"
      },
      "source": [
        "### Q: 18. What is the difference between os.fork() and multiprocessing in Python?\n",
        "**A:** `os.fork()` creates a new process (Unix-specific), while `multiprocessing` is cross-platform."
      ]
    },
    {
      "cell_type": "markdown",
      "id": "ad4d76d3",
      "metadata": {
        "id": "ad4d76d3"
      },
      "source": [
        "### Q: 19. What is the importance of closing a file in Python?\n",
        "**A:** Releases system resources and ensures data is saved properly."
      ]
    },
    {
      "cell_type": "markdown",
      "id": "b40c12f0",
      "metadata": {
        "id": "b40c12f0"
      },
      "source": [
        "### Q: 20. What is the difference between file.read() and file.readline() in Python?\n",
        "**A:** - `read()`: Reads the entire file.\n",
        "- `readline()`: Reads one line at a time."
      ]
    },
    {
      "cell_type": "markdown",
      "id": "93aaa788",
      "metadata": {
        "id": "93aaa788"
      },
      "source": [
        "### Q: 21. What is the logging module in Python used for?\n",
        "**A:** Capturing and recording log messages during program execution."
      ]
    },
    {
      "cell_type": "markdown",
      "id": "dac7d793",
      "metadata": {
        "id": "dac7d793"
      },
      "source": [
        "### Q: 22. What is the os module in Python used for in file handling?\n",
        "**A:** Interacting with the operating system: file paths, file creation/deletion."
      ]
    },
    {
      "cell_type": "markdown",
      "id": "28d7ca0a",
      "metadata": {
        "id": "28d7ca0a"
      },
      "source": [
        "### Q: 23. What are the challenges associated with memory management in Python?\n",
        "**A:** Handling circular references, tracking large objects, optimizing performance."
      ]
    },
    {
      "cell_type": "markdown",
      "id": "b85c853e",
      "metadata": {
        "id": "b85c853e"
      },
      "source": [
        "### Q: 24. How do you raise an exception manually in Python?\n",
        "**A:** `raise Exception('Error message')`"
      ]
    },
    {
      "cell_type": "markdown",
      "id": "11de0d13",
      "metadata": {
        "id": "11de0d13"
      },
      "source": [
        "### Q: 25. Why is it important to use multithreading in certain applications?\n",
        "**A:** Improves efficiency and responsiveness in I/O-bound or concurrent tasks."
      ]
    },
    {
      "cell_type": "markdown",
      "id": "42468090",
      "metadata": {
        "id": "42468090"
      },
      "source": [
        "## Practical Questions and Code Examples"
      ]
    },
    {
      "cell_type": "markdown",
      "id": "5ce8a859",
      "metadata": {
        "id": "5ce8a859"
      },
      "source": [
        "### Q: 1. How can you open a file for writing in Python and write a string to it?"
      ]
    },
    {
      "cell_type": "code",
      "execution_count": null,
      "id": "768689d6",
      "metadata": {
        "id": "768689d6"
      },
      "outputs": [],
      "source": [
        "with open(\"example.txt\", \"w\") as f:\n",
        "    f.write(\"Hello, world!\")"
      ]
    },
    {
      "cell_type": "markdown",
      "id": "654e3502",
      "metadata": {
        "id": "654e3502"
      },
      "source": [
        "### Q: 2. Write a Python program to read the contents of a file and print each line."
      ]
    },
    {
      "cell_type": "code",
      "execution_count": null,
      "id": "86ac0abf",
      "metadata": {
        "id": "86ac0abf"
      },
      "outputs": [],
      "source": [
        "with open(\"example.txt\", \"r\") as f:\n",
        "    for line in f:\n",
        "        print(line.strip())"
      ]
    },
    {
      "cell_type": "markdown",
      "id": "a03f7aab",
      "metadata": {
        "id": "a03f7aab"
      },
      "source": [
        "### Q: 3. How would you handle a case where the file doesn't exist while trying to open it for reading?"
      ]
    },
    {
      "cell_type": "code",
      "execution_count": null,
      "id": "f604b2aa",
      "metadata": {
        "id": "f604b2aa"
      },
      "outputs": [],
      "source": [
        "try:\n",
        "    with open(\"missing.txt\", \"r\") as f:\n",
        "        content = f.read()\n",
        "except FileNotFoundError:\n",
        "    print(\"File not found.\")"
      ]
    },
    {
      "cell_type": "markdown",
      "id": "85bb4f4f",
      "metadata": {
        "id": "85bb4f4f"
      },
      "source": [
        "### Q: 4. Write a Python script that reads from one file and writes its content to another file."
      ]
    },
    {
      "cell_type": "code",
      "execution_count": null,
      "id": "75d641e9",
      "metadata": {
        "id": "75d641e9"
      },
      "outputs": [],
      "source": [
        "with open(\"source.txt\", \"r\") as src, open(\"destination.txt\", \"w\") as dst:\n",
        "    dst.write(src.read())"
      ]
    },
    {
      "cell_type": "markdown",
      "id": "7baf9409",
      "metadata": {
        "id": "7baf9409"
      },
      "source": [
        "### Q: 5. How would you catch and handle division by zero error in Python?"
      ]
    },
    {
      "cell_type": "code",
      "execution_count": null,
      "id": "ccaa14c4",
      "metadata": {
        "id": "ccaa14c4"
      },
      "outputs": [],
      "source": [
        "try:\n",
        "    result = 10 / 0\n",
        "except ZeroDivisionError:\n",
        "    print(\"Cannot divide by zero.\")"
      ]
    },
    {
      "cell_type": "markdown",
      "id": "e979d018",
      "metadata": {
        "id": "e979d018"
      },
      "source": [
        "### Q: 6. Write a Python program that logs an error message to a log file when a division by zero exception occurs."
      ]
    },
    {
      "cell_type": "code",
      "execution_count": null,
      "id": "773ff4c7",
      "metadata": {
        "id": "773ff4c7"
      },
      "outputs": [],
      "source": [
        "import logging\n",
        "logging.basicConfig(filename=\"logfile.log\", level=logging.ERROR)\n",
        "try:\n",
        "    1 / 0\n",
        "except ZeroDivisionError as e:\n",
        "    logging.error(f\"Error: {e}\")"
      ]
    },
    {
      "cell_type": "markdown",
      "id": "0efdda8a",
      "metadata": {
        "id": "0efdda8a"
      },
      "source": [
        "### Q: 7. How do you log information at different levels (INFO, ERROR, WARNING) in Python using the logging module?"
      ]
    },
    {
      "cell_type": "code",
      "execution_count": null,
      "id": "c89c1713",
      "metadata": {
        "id": "c89c1713"
      },
      "outputs": [],
      "source": [
        "import logging\n",
        "logging.basicConfig(level=logging.DEBUG)\n",
        "logging.info(\"This is an info message\")\n",
        "logging.warning(\"This is a warning\")\n",
        "logging.error(\"This is an error\")"
      ]
    },
    {
      "cell_type": "markdown",
      "id": "76eda63b",
      "metadata": {
        "id": "76eda63b"
      },
      "source": [
        "### Q: 8. Write a program to handle a file opening error using exception handling."
      ]
    },
    {
      "cell_type": "code",
      "execution_count": null,
      "id": "f0902fa0",
      "metadata": {
        "id": "f0902fa0"
      },
      "outputs": [],
      "source": [
        "try:\n",
        "    with open(\"nonexistent.txt\") as f:\n",
        "        data = f.read()\n",
        "except IOError:\n",
        "    print(\"File could not be opened.\")"
      ]
    },
    {
      "cell_type": "markdown",
      "id": "28305832",
      "metadata": {
        "id": "28305832"
      },
      "source": [
        "### Q: 9. How can you read a file line by line and store its content in a list in Python?"
      ]
    },
    {
      "cell_type": "code",
      "execution_count": null,
      "id": "a154fb57",
      "metadata": {
        "id": "a154fb57"
      },
      "outputs": [],
      "source": [
        "with open(\"file.txt\") as f:\n",
        "    lines = f.readlines()"
      ]
    },
    {
      "cell_type": "markdown",
      "id": "df0c4b0f",
      "metadata": {
        "id": "df0c4b0f"
      },
      "source": [
        "### Q: 10. How can you append data to an existing file in Python?"
      ]
    },
    {
      "cell_type": "code",
      "execution_count": null,
      "id": "500fb0fd",
      "metadata": {
        "id": "500fb0fd"
      },
      "outputs": [],
      "source": [
        "with open(\"file.txt\", \"a\") as f:\n",
        "    f.write(\"Additional line\\n\")"
      ]
    },
    {
      "cell_type": "markdown",
      "id": "d8f3e139",
      "metadata": {
        "id": "d8f3e139"
      },
      "source": [
        "### Q: 11. Write a Python program that uses a try-except block to handle an error when attempting to access a dictionary key that doesn't exist."
      ]
    },
    {
      "cell_type": "code",
      "execution_count": null,
      "id": "9fe0ed1c",
      "metadata": {
        "id": "9fe0ed1c"
      },
      "outputs": [],
      "source": [
        "try:\n",
        "    value = {\"name\": \"Alice\"}[\"age\"]\n",
        "except KeyError:\n",
        "    print(\"Key not found\")"
      ]
    },
    {
      "cell_type": "markdown",
      "id": "551b2796",
      "metadata": {
        "id": "551b2796"
      },
      "source": [
        "### Q: 12. Write a program that demonstrates using multiple except blocks to handle different types of exceptions."
      ]
    },
    {
      "cell_type": "code",
      "execution_count": null,
      "id": "5cf20160",
      "metadata": {
        "id": "5cf20160"
      },
      "outputs": [],
      "source": [
        "try:\n",
        "    x = int(\"text\")\n",
        "    lst = [1, 2, 3]\n",
        "    print(lst[5])\n",
        "except ValueError:\n",
        "    print(\"ValueError occurred\")\n",
        "except IndexError:\n",
        "    print(\"IndexError occurred\")"
      ]
    },
    {
      "cell_type": "markdown",
      "id": "b3ea0a17",
      "metadata": {
        "id": "b3ea0a17"
      },
      "source": [
        "### Q: 13. How would you check if a file exists before attempting to read it in Python?"
      ]
    },
    {
      "cell_type": "code",
      "execution_count": null,
      "id": "9cfa841b",
      "metadata": {
        "id": "9cfa841b"
      },
      "outputs": [],
      "source": [
        "import os\n",
        "if os.path.exists(\"file.txt\"):\n",
        "    with open(\"file.txt\") as f:\n",
        "        print(f.read())"
      ]
    },
    {
      "cell_type": "markdown",
      "id": "dfc4cce6",
      "metadata": {
        "id": "dfc4cce6"
      },
      "source": [
        "### Q: 14. Write a program that uses the logging module to log both informational and error messages."
      ]
    },
    {
      "cell_type": "code",
      "execution_count": null,
      "id": "05226b61",
      "metadata": {
        "id": "05226b61"
      },
      "outputs": [],
      "source": [
        "import logging\n",
        "logging.basicConfig(filename=\"combined.log\", level=logging.DEBUG)\n",
        "logging.info(\"Starting the script\")\n",
        "try:\n",
        "    10 / 0\n",
        "except Exception as e:\n",
        "    logging.error(f\"Error occurred: {e}\")"
      ]
    },
    {
      "cell_type": "markdown",
      "id": "632ba680",
      "metadata": {
        "id": "632ba680"
      },
      "source": [
        "### Q: 15. Write a Python program that prints the content of a file and handles the case when the file is empty."
      ]
    },
    {
      "cell_type": "code",
      "execution_count": null,
      "id": "b1278dce",
      "metadata": {
        "id": "b1278dce"
      },
      "outputs": [],
      "source": [
        "with open(\"file.txt\") as f:\n",
        "    content = f.read()\n",
        "    if not content:\n",
        "        print(\"File is empty\")\n",
        "    else:\n",
        "        print(content)"
      ]
    },
    {
      "cell_type": "markdown",
      "id": "5ea098dc",
      "metadata": {
        "id": "5ea098dc"
      },
      "source": [
        "### Q: 16. Demonstrate how to use memory profiling to check the memory usage of a small program."
      ]
    },
    {
      "cell_type": "code",
      "execution_count": null,
      "id": "3b0bcb6a",
      "metadata": {
        "id": "3b0bcb6a"
      },
      "outputs": [],
      "source": [
        "# Requires memory_profiler installed\n",
        "from memory_profiler import profile\n",
        "@profile\n",
        "def my_func():\n",
        "    a = [i for i in range(10000)]\n",
        "    return a\n",
        "my_func()"
      ]
    },
    {
      "cell_type": "markdown",
      "id": "0515da3e",
      "metadata": {
        "id": "0515da3e"
      },
      "source": [
        "### Q: 17. Write a Python program to create and write a list of numbers to a file, one number per line."
      ]
    },
    {
      "cell_type": "code",
      "execution_count": null,
      "id": "d7b7ed0a",
      "metadata": {
        "id": "d7b7ed0a"
      },
      "outputs": [],
      "source": [
        "with open(\"numbers.txt\", \"w\") as f:\n",
        "    for i in range(10):\n",
        "        f.write(f\"{i}\\n\")"
      ]
    },
    {
      "cell_type": "markdown",
      "id": "85376855",
      "metadata": {
        "id": "85376855"
      },
      "source": [
        "### Q: 18. How would you implement a basic logging setup that logs to a file with rotation after 1MB?"
      ]
    },
    {
      "cell_type": "code",
      "execution_count": null,
      "id": "1853bba9",
      "metadata": {
        "id": "1853bba9"
      },
      "outputs": [],
      "source": [
        "from logging.handlers import RotatingFileHandler\n",
        "import logging\n",
        "handler = RotatingFileHandler(\"rotating.log\", maxBytes=1048576, backupCount=3)\n",
        "logging.basicConfig(handlers=[handler], level=logging.INFO)\n",
        "logging.info(\"This is a test log.\")"
      ]
    },
    {
      "cell_type": "markdown",
      "id": "f3526572",
      "metadata": {
        "id": "f3526572"
      },
      "source": [
        "### Q: 19. Write a program that handles both IndexError and KeyError using a try-except block."
      ]
    },
    {
      "cell_type": "code",
      "execution_count": null,
      "id": "f1b89110",
      "metadata": {
        "id": "f1b89110"
      },
      "outputs": [],
      "source": [
        "try:\n",
        "    lst = [1]\n",
        "    dct = {\"a\": 1}\n",
        "    print(lst[5])\n",
        "    print(dct[\"b\"])\n",
        "except IndexError:\n",
        "    print(\"Caught IndexError\")\n",
        "except KeyError:\n",
        "    print(\"Caught KeyError\")"
      ]
    },
    {
      "cell_type": "markdown",
      "id": "59a94402",
      "metadata": {
        "id": "59a94402"
      },
      "source": [
        "### Q: 20. How would you open a file and read its contents using a context manager in Python?"
      ]
    },
    {
      "cell_type": "code",
      "execution_count": null,
      "id": "deaca940",
      "metadata": {
        "id": "deaca940"
      },
      "outputs": [],
      "source": [
        "with open(\"example.txt\", \"r\") as f:\n",
        "    print(f.read())"
      ]
    },
    {
      "cell_type": "markdown",
      "id": "a96304de",
      "metadata": {
        "id": "a96304de"
      },
      "source": [
        "### Q: 21. Write a Python program that reads a file and prints the number of occurrences of a specific word."
      ]
    },
    {
      "cell_type": "code",
      "execution_count": null,
      "id": "b3b9c8e4",
      "metadata": {
        "id": "b3b9c8e4"
      },
      "outputs": [],
      "source": [
        "word = \"python\"\n",
        "with open(\"file.txt\") as f:\n",
        "    text = f.read()\n",
        "    print(text.count(word))"
      ]
    },
    {
      "cell_type": "markdown",
      "id": "3482d249",
      "metadata": {
        "id": "3482d249"
      },
      "source": [
        "### Q: 22. How can you check if a file is empty before attempting to read its contents?"
      ]
    },
    {
      "cell_type": "code",
      "execution_count": null,
      "id": "8c09021a",
      "metadata": {
        "id": "8c09021a"
      },
      "outputs": [],
      "source": [
        "import os\n",
        "if os.path.getsize(\"file.txt\") == 0:\n",
        "    print(\"File is empty\")"
      ]
    },
    {
      "cell_type": "markdown",
      "id": "d01790a3",
      "metadata": {
        "id": "d01790a3"
      },
      "source": [
        "### Q: 23. Write a Python program that writes to a log file when an error occurs during file handling."
      ]
    },
    {
      "cell_type": "code",
      "execution_count": null,
      "id": "30453410",
      "metadata": {
        "id": "30453410"
      },
      "outputs": [],
      "source": [
        "import logging\n",
        "logging.basicConfig(filename=\"errorlog.log\", level=logging.ERROR)\n",
        "try:\n",
        "    with open(\"nofile.txt\") as f:\n",
        "        data = f.read()\n",
        "except Exception as e:\n",
        "    logging.error(f\"Error: {e}\")"
      ]
    }
  ],
  "metadata": {
    "colab": {
      "provenance": [],
      "include_colab_link": true
    }
  },
  "nbformat": 4,
  "nbformat_minor": 5
}